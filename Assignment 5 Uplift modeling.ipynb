{
 "cells": [
  {
   "cell_type": "code",
   "execution_count": 1,
   "metadata": {},
   "outputs": [],
   "source": [
    "import pandas as pd\n",
    "from sklearn.model_selection import train_test_split\n",
    "from sklearn.tree import DecisionTreeClassifier\n",
    "from sklearn.ensemble import AdaBoostClassifier\n",
    "from sklearn.ensemble import BaggingClassifier\n",
    "from sklearn.ensemble import RandomForestClassifier\n",
    "from dmba import classificationSummary\n",
    "\n",
    "from sklearn import preprocessing\n",
    "from sklearn.metrics import accuracy_score\n",
    "from sklearn.neighbors import NearestNeighbors, KNeighborsClassifier\n",
    "import matplotlib.pylab as plt"
   ]
  },
  {
   "cell_type": "raw",
   "metadata": {},
   "source": [
    "Hair Care Product—Uplift Modeling \n",
    "This problem uses the data set in Hair-Care Product.csv, courtesy of SAS. \n",
    "In this hypothetical case, a promotion for a hair care product was sent to some members of a buyers club. \n",
    "Purchases were then recorded for both the members who got the promotion and those who did not.\n",
    "\n",
    "a. What is the purchase propensity\n",
    "i. among those who received the promotion?\n",
    "ii. among those who did not receive the promotion?\n",
    "\n",
    "b. Partition the data into training (60%) and validation (40%) and fit:\n",
    "i. Uplift using a Random Forest.\n",
    "ii. Uplift using k-NN.\n",
    "\n",
    "c. Report the two models' recommendations for the first three members."
   ]
  },
  {
   "cell_type": "code",
   "execution_count": 2,
   "metadata": {},
   "outputs": [
    {
     "data": {
      "text/html": [
       "<div>\n",
       "<style scoped>\n",
       "    .dataframe tbody tr th:only-of-type {\n",
       "        vertical-align: middle;\n",
       "    }\n",
       "\n",
       "    .dataframe tbody tr th {\n",
       "        vertical-align: top;\n",
       "    }\n",
       "\n",
       "    .dataframe thead th {\n",
       "        text-align: right;\n",
       "    }\n",
       "</style>\n",
       "<table border=\"1\" class=\"dataframe\">\n",
       "  <thead>\n",
       "    <tr style=\"text-align: right;\">\n",
       "      <th></th>\n",
       "      <th>Purchase</th>\n",
       "      <th>Age</th>\n",
       "      <th>Hair Color</th>\n",
       "      <th>U.S. Region</th>\n",
       "      <th>Validation</th>\n",
       "      <th>Promotion_ord</th>\n",
       "      <th>Gender_ord</th>\n",
       "      <th>Residence_ord</th>\n",
       "    </tr>\n",
       "  </thead>\n",
       "  <tbody>\n",
       "    <tr>\n",
       "      <th>0</th>\n",
       "      <td>0</td>\n",
       "      <td>25</td>\n",
       "      <td>Black</td>\n",
       "      <td>Southwest</td>\n",
       "      <td>1</td>\n",
       "      <td>1</td>\n",
       "      <td>0</td>\n",
       "      <td>1</td>\n",
       "    </tr>\n",
       "    <tr>\n",
       "      <th>1</th>\n",
       "      <td>0</td>\n",
       "      <td>30</td>\n",
       "      <td>Black</td>\n",
       "      <td>Northwest</td>\n",
       "      <td>1</td>\n",
       "      <td>0</td>\n",
       "      <td>0</td>\n",
       "      <td>1</td>\n",
       "    </tr>\n",
       "    <tr>\n",
       "      <th>2</th>\n",
       "      <td>0</td>\n",
       "      <td>45</td>\n",
       "      <td>Red</td>\n",
       "      <td>Northeast</td>\n",
       "      <td>1</td>\n",
       "      <td>0</td>\n",
       "      <td>0</td>\n",
       "      <td>0</td>\n",
       "    </tr>\n",
       "    <tr>\n",
       "      <th>3</th>\n",
       "      <td>0</td>\n",
       "      <td>35</td>\n",
       "      <td>Blond</td>\n",
       "      <td>Southwest</td>\n",
       "      <td>0</td>\n",
       "      <td>0</td>\n",
       "      <td>0</td>\n",
       "      <td>1</td>\n",
       "    </tr>\n",
       "    <tr>\n",
       "      <th>4</th>\n",
       "      <td>0</td>\n",
       "      <td>33</td>\n",
       "      <td>Brown</td>\n",
       "      <td>Southwest</td>\n",
       "      <td>0</td>\n",
       "      <td>1</td>\n",
       "      <td>0</td>\n",
       "      <td>1</td>\n",
       "    </tr>\n",
       "  </tbody>\n",
       "</table>\n",
       "</div>"
      ],
      "text/plain": [
       "   Purchase  Age Hair Color U.S. Region  Validation  Promotion_ord  \\\n",
       "0         0   25      Black   Southwest           1              1   \n",
       "1         0   30      Black   Northwest           1              0   \n",
       "2         0   45        Red   Northeast           1              0   \n",
       "3         0   35      Blond   Southwest           0              0   \n",
       "4         0   33      Brown   Southwest           0              1   \n",
       "\n",
       "   Gender_ord  Residence_ord  \n",
       "0           0              1  \n",
       "1           0              1  \n",
       "2           0              0  \n",
       "3           0              1  \n",
       "4           0              1  "
      ]
     },
     "execution_count": 2,
     "metadata": {},
     "output_type": "execute_result"
    }
   ],
   "source": [
    "hairdf = pd.read_csv('DMBA-R-datasets/Hair-Care-Product.csv')\n",
    "hairdf.head()"
   ]
  },
  {
   "cell_type": "markdown",
   "metadata": {},
   "source": [
    "### a. What is the purchase propensity"
   ]
  },
  {
   "cell_type": "code",
   "execution_count": 3,
   "metadata": {},
   "outputs": [
    {
     "name": "stdout",
     "output_type": "stream",
     "text": [
      "0.0161\n"
     ]
    }
   ],
   "source": [
    "# purchase propensity among those who received the promotion\n",
    "purch_prom = hairdf.loc[(hairdf['Purchase'] == 1) & (hairdf['Promotion_ord'] ==1), ]\n",
    "prom = hairdf.loc[hairdf['Promotion_ord'] == 1, ]\n",
    "pruch_prop = purch_prom.shape[0]/prom.shape[0]\n",
    "print(round(pruch_prop, 4))"
   ]
  },
  {
   "cell_type": "code",
   "execution_count": 4,
   "metadata": {},
   "outputs": [
    {
     "name": "stdout",
     "output_type": "stream",
     "text": [
      "0.0064\n"
     ]
    }
   ],
   "source": [
    "# purchase propensity among those who did not received the promotion\n",
    "purch_unprom = hairdf.loc[(hairdf['Promotion_ord'] == 0) & (hairdf['Purchase'] == 1), ]\n",
    "unprom = hairdf.loc[hairdf['Promotion_ord'] == 0, ]\n",
    "pruch_prop_unprom = purch_unprom.shape[0]/unprom.shape[0]\n",
    "print(round(pruch_prop_unprom, 4))"
   ]
  },
  {
   "cell_type": "code",
   "execution_count": 5,
   "metadata": {},
   "outputs": [
    {
     "data": {
      "text/html": [
       "<div>\n",
       "<style scoped>\n",
       "    .dataframe tbody tr th:only-of-type {\n",
       "        vertical-align: middle;\n",
       "    }\n",
       "\n",
       "    .dataframe tbody tr th {\n",
       "        vertical-align: top;\n",
       "    }\n",
       "\n",
       "    .dataframe thead th {\n",
       "        text-align: right;\n",
       "    }\n",
       "</style>\n",
       "<table border=\"1\" class=\"dataframe\">\n",
       "  <thead>\n",
       "    <tr style=\"text-align: right;\">\n",
       "      <th></th>\n",
       "      <th>Purchase</th>\n",
       "      <th>Age</th>\n",
       "      <th>Validation</th>\n",
       "      <th>Promotion_ord</th>\n",
       "      <th>Gender_ord</th>\n",
       "      <th>Residence_ord</th>\n",
       "      <th>Hair Color_Blond</th>\n",
       "      <th>Hair Color_Brown</th>\n",
       "      <th>Hair Color_Red</th>\n",
       "      <th>U.S. Region_Northwest</th>\n",
       "      <th>U.S. Region_Southeast</th>\n",
       "      <th>U.S. Region_Southwest</th>\n",
       "    </tr>\n",
       "  </thead>\n",
       "  <tbody>\n",
       "    <tr>\n",
       "      <th>0</th>\n",
       "      <td>0</td>\n",
       "      <td>25</td>\n",
       "      <td>1</td>\n",
       "      <td>1</td>\n",
       "      <td>0</td>\n",
       "      <td>1</td>\n",
       "      <td>0</td>\n",
       "      <td>0</td>\n",
       "      <td>0</td>\n",
       "      <td>0</td>\n",
       "      <td>0</td>\n",
       "      <td>1</td>\n",
       "    </tr>\n",
       "    <tr>\n",
       "      <th>1</th>\n",
       "      <td>0</td>\n",
       "      <td>30</td>\n",
       "      <td>1</td>\n",
       "      <td>0</td>\n",
       "      <td>0</td>\n",
       "      <td>1</td>\n",
       "      <td>0</td>\n",
       "      <td>0</td>\n",
       "      <td>0</td>\n",
       "      <td>1</td>\n",
       "      <td>0</td>\n",
       "      <td>0</td>\n",
       "    </tr>\n",
       "    <tr>\n",
       "      <th>2</th>\n",
       "      <td>0</td>\n",
       "      <td>45</td>\n",
       "      <td>1</td>\n",
       "      <td>0</td>\n",
       "      <td>0</td>\n",
       "      <td>0</td>\n",
       "      <td>0</td>\n",
       "      <td>0</td>\n",
       "      <td>1</td>\n",
       "      <td>0</td>\n",
       "      <td>0</td>\n",
       "      <td>0</td>\n",
       "    </tr>\n",
       "    <tr>\n",
       "      <th>3</th>\n",
       "      <td>0</td>\n",
       "      <td>35</td>\n",
       "      <td>0</td>\n",
       "      <td>0</td>\n",
       "      <td>0</td>\n",
       "      <td>1</td>\n",
       "      <td>1</td>\n",
       "      <td>0</td>\n",
       "      <td>0</td>\n",
       "      <td>0</td>\n",
       "      <td>0</td>\n",
       "      <td>1</td>\n",
       "    </tr>\n",
       "    <tr>\n",
       "      <th>4</th>\n",
       "      <td>0</td>\n",
       "      <td>33</td>\n",
       "      <td>0</td>\n",
       "      <td>1</td>\n",
       "      <td>0</td>\n",
       "      <td>1</td>\n",
       "      <td>0</td>\n",
       "      <td>1</td>\n",
       "      <td>0</td>\n",
       "      <td>0</td>\n",
       "      <td>0</td>\n",
       "      <td>1</td>\n",
       "    </tr>\n",
       "  </tbody>\n",
       "</table>\n",
       "</div>"
      ],
      "text/plain": [
       "   Purchase  Age  Validation  Promotion_ord  Gender_ord  Residence_ord  \\\n",
       "0         0   25           1              1           0              1   \n",
       "1         0   30           1              0           0              1   \n",
       "2         0   45           1              0           0              0   \n",
       "3         0   35           0              0           0              1   \n",
       "4         0   33           0              1           0              1   \n",
       "\n",
       "   Hair Color_Blond  Hair Color_Brown  Hair Color_Red  U.S. Region_Northwest  \\\n",
       "0                 0                 0               0                      0   \n",
       "1                 0                 0               0                      1   \n",
       "2                 0                 0               1                      0   \n",
       "3                 1                 0               0                      0   \n",
       "4                 0                 1               0                      0   \n",
       "\n",
       "   U.S. Region_Southeast  U.S. Region_Southwest  \n",
       "0                      0                      1  \n",
       "1                      0                      0  \n",
       "2                      0                      0  \n",
       "3                      0                      1  \n",
       "4                      0                      1  "
      ]
     },
     "execution_count": 5,
     "metadata": {},
     "output_type": "execute_result"
    }
   ],
   "source": [
    "# treat hair color & U.S. Region as categories\n",
    "hairdf['Hair Color'] = hairdf['Hair Color'].astype('category')\n",
    "hairdf['U.S. Region'] = hairdf['U.S. Region'].astype('category')\n",
    "# one-hot encoding\n",
    "hairdf_dummies = pd.get_dummies(hairdf, prefix_sep='_', drop_first=True)\n",
    "hairdf_dummies.head()"
   ]
  },
  {
   "cell_type": "code",
   "execution_count": 6,
   "metadata": {},
   "outputs": [],
   "source": [
    "# b. Partition the data into training (60%) and validation (40%)\n",
    "x = hairdf_dummies.drop('Purchase', axis='columns')\n",
    "y = hairdf_dummies['Purchase']\n",
    "train_x, valid_x, train_y, valid_y = train_test_split(x, y, test_size = 0.4, random_state = 0)"
   ]
  },
  {
   "cell_type": "markdown",
   "metadata": {},
   "source": [
    "### b. Uplift using a Random Forest"
   ]
  },
  {
   "cell_type": "code",
   "execution_count": 7,
   "metadata": {},
   "outputs": [
    {
     "data": {
      "text/plain": [
       "RandomForestClassifier(random_state=1)"
      ]
     },
     "execution_count": 7,
     "metadata": {},
     "output_type": "execute_result"
    }
   ],
   "source": [
    "rf = RandomForestClassifier(n_estimators=100, random_state=1)\n",
    "rf.fit(train_x, train_y)"
   ]
  },
  {
   "cell_type": "code",
   "execution_count": 10,
   "metadata": {},
   "outputs": [
    {
     "data": {
      "text/plain": [
       "0.982"
      ]
     },
     "execution_count": 10,
     "metadata": {},
     "output_type": "execute_result"
    }
   ],
   "source": [
    "accuracy_score(valid_y, rf.predict(valid_x))"
   ]
  },
  {
   "cell_type": "code",
   "execution_count": 11,
   "metadata": {},
   "outputs": [],
   "source": [
    "# Calculating the uplift\n",
    "uplift_rf = valid_x.copy()\n",
    "uplift_rf['Promotion_ord'] = 1\n",
    "rf_pred_prom = rf.predict_proba(uplift_rf)\n",
    "uplift_rf['Promotion_ord'] = 0\n",
    "rf_pred_control = rf.predict_proba(uplift_rf)\n",
    "\n",
    "rf_uplift = pd.DataFrame({'probPromotion': rf_pred_prom[:, 1],\n",
    "                          'probNoPromotion': rf_pred_control[:, 1],\n",
    "                          'uplift': rf_pred_prom[:,1] - rf_pred_control[:,1]}, index = uplift_rf.index)"
   ]
  },
  {
   "cell_type": "markdown",
   "metadata": {},
   "source": [
    "### b. Uplift using KNN"
   ]
  },
  {
   "cell_type": "code",
   "execution_count": 12,
   "metadata": {},
   "outputs": [],
   "source": [
    "# normalization\n",
    "scaler = preprocessing.StandardScaler()\n",
    "scaler.fit(train_x)\n",
    "\n",
    "# Transform the full dataset\n",
    "norm_x = pd.DataFrame(scaler.transform(x), columns=x.columns)\n",
    "\n",
    "train_x_norm = norm_x.loc[train_x.index]\n",
    "valid_x_norm = norm_x.loc[valid_x.index]"
   ]
  },
  {
   "cell_type": "code",
   "execution_count": 13,
   "metadata": {},
   "outputs": [
    {
     "name": "stdout",
     "output_type": "stream",
     "text": [
      "     k  accuracy\n",
      "3    4   0.98875\n",
      "5    6   0.98875\n",
      "6    7   0.98875\n",
      "7    8   0.98875\n",
      "8    9   0.98875\n",
      "9   10   0.98875\n",
      "10  11   0.98875\n",
      "11  12   0.98875\n",
      "12  13   0.98875\n",
      "13  14   0.98875\n",
      "1    2   0.98800\n",
      "4    5   0.98800\n",
      "2    3   0.98725\n",
      "0    1   0.97400\n"
     ]
    }
   ],
   "source": [
    "# Train a classifier for different values of k\n",
    "results = []\n",
    "for k in range(1, 15):\n",
    "    knn = KNeighborsClassifier(n_neighbors = k).fit(train_x_norm, train_y)\n",
    "    results.append({'k':k, 'accuracy': accuracy_score(valid_y, knn.predict(valid_x_norm))})\n",
    "\n",
    "results = pd.DataFrame(results)\n",
    "print(results.sort_values(by = ['accuracy'], ascending = False))"
   ]
  },
  {
   "cell_type": "code",
   "execution_count": 14,
   "metadata": {},
   "outputs": [
    {
     "data": {
      "text/plain": [
       "[-1.0060181084889306, 0.9940178924830985]"
      ]
     },
     "execution_count": 14,
     "metadata": {},
     "output_type": "execute_result"
    }
   ],
   "source": [
    "list(valid_x_norm['Promotion_ord'].unique())"
   ]
  },
  {
   "cell_type": "code",
   "execution_count": 15,
   "metadata": {},
   "outputs": [
    {
     "data": {
      "text/html": [
       "<div>\n",
       "<style scoped>\n",
       "    .dataframe tbody tr th:only-of-type {\n",
       "        vertical-align: middle;\n",
       "    }\n",
       "\n",
       "    .dataframe tbody tr th {\n",
       "        vertical-align: top;\n",
       "    }\n",
       "\n",
       "    .dataframe thead th {\n",
       "        text-align: right;\n",
       "    }\n",
       "</style>\n",
       "<table border=\"1\" class=\"dataframe\">\n",
       "  <thead>\n",
       "    <tr style=\"text-align: right;\">\n",
       "      <th></th>\n",
       "      <th>Age</th>\n",
       "      <th>Validation</th>\n",
       "      <th>Promotion_ord</th>\n",
       "      <th>Gender_ord</th>\n",
       "      <th>Residence_ord</th>\n",
       "      <th>Hair Color_Blond</th>\n",
       "      <th>Hair Color_Brown</th>\n",
       "      <th>Hair Color_Red</th>\n",
       "      <th>U.S. Region_Northwest</th>\n",
       "      <th>U.S. Region_Southeast</th>\n",
       "      <th>U.S. Region_Southwest</th>\n",
       "    </tr>\n",
       "  </thead>\n",
       "  <tbody>\n",
       "    <tr>\n",
       "      <th>9394</th>\n",
       "      <td>-1.244420</td>\n",
       "      <td>-0.703398</td>\n",
       "      <td>-1.006018</td>\n",
       "      <td>1.468412</td>\n",
       "      <td>0.634707</td>\n",
       "      <td>-0.78982</td>\n",
       "      <td>1.285960</td>\n",
       "      <td>-0.255248</td>\n",
       "      <td>-0.590952</td>\n",
       "      <td>-0.564519</td>\n",
       "      <td>1.72515</td>\n",
       "    </tr>\n",
       "    <tr>\n",
       "      <th>898</th>\n",
       "      <td>-0.813507</td>\n",
       "      <td>-0.703398</td>\n",
       "      <td>-1.006018</td>\n",
       "      <td>-0.681008</td>\n",
       "      <td>0.634707</td>\n",
       "      <td>-0.78982</td>\n",
       "      <td>1.285960</td>\n",
       "      <td>-0.255248</td>\n",
       "      <td>-0.590952</td>\n",
       "      <td>-0.564519</td>\n",
       "      <td>-0.57966</td>\n",
       "    </tr>\n",
       "    <tr>\n",
       "      <th>2398</th>\n",
       "      <td>-0.641142</td>\n",
       "      <td>1.421671</td>\n",
       "      <td>-1.006018</td>\n",
       "      <td>-0.681008</td>\n",
       "      <td>0.634707</td>\n",
       "      <td>-0.78982</td>\n",
       "      <td>1.285960</td>\n",
       "      <td>-0.255248</td>\n",
       "      <td>-0.590952</td>\n",
       "      <td>1.771421</td>\n",
       "      <td>-0.57966</td>\n",
       "    </tr>\n",
       "    <tr>\n",
       "      <th>5906</th>\n",
       "      <td>1.168695</td>\n",
       "      <td>-0.703398</td>\n",
       "      <td>-1.006018</td>\n",
       "      <td>-0.681008</td>\n",
       "      <td>0.634707</td>\n",
       "      <td>-0.78982</td>\n",
       "      <td>-0.777629</td>\n",
       "      <td>-0.255248</td>\n",
       "      <td>1.692185</td>\n",
       "      <td>-0.564519</td>\n",
       "      <td>-0.57966</td>\n",
       "    </tr>\n",
       "    <tr>\n",
       "      <th>2343</th>\n",
       "      <td>1.599608</td>\n",
       "      <td>-0.703398</td>\n",
       "      <td>-1.006018</td>\n",
       "      <td>-0.681008</td>\n",
       "      <td>0.634707</td>\n",
       "      <td>-0.78982</td>\n",
       "      <td>1.285960</td>\n",
       "      <td>-0.255248</td>\n",
       "      <td>-0.590952</td>\n",
       "      <td>-0.564519</td>\n",
       "      <td>1.72515</td>\n",
       "    </tr>\n",
       "  </tbody>\n",
       "</table>\n",
       "</div>"
      ],
      "text/plain": [
       "           Age  Validation  Promotion_ord  Gender_ord  Residence_ord  \\\n",
       "9394 -1.244420   -0.703398      -1.006018    1.468412       0.634707   \n",
       "898  -0.813507   -0.703398      -1.006018   -0.681008       0.634707   \n",
       "2398 -0.641142    1.421671      -1.006018   -0.681008       0.634707   \n",
       "5906  1.168695   -0.703398      -1.006018   -0.681008       0.634707   \n",
       "2343  1.599608   -0.703398      -1.006018   -0.681008       0.634707   \n",
       "\n",
       "      Hair Color_Blond  Hair Color_Brown  Hair Color_Red  \\\n",
       "9394          -0.78982          1.285960       -0.255248   \n",
       "898           -0.78982          1.285960       -0.255248   \n",
       "2398          -0.78982          1.285960       -0.255248   \n",
       "5906          -0.78982         -0.777629       -0.255248   \n",
       "2343          -0.78982          1.285960       -0.255248   \n",
       "\n",
       "      U.S. Region_Northwest  U.S. Region_Southeast  U.S. Region_Southwest  \n",
       "9394              -0.590952              -0.564519                1.72515  \n",
       "898               -0.590952              -0.564519               -0.57966  \n",
       "2398              -0.590952               1.771421               -0.57966  \n",
       "5906               1.692185              -0.564519               -0.57966  \n",
       "2343              -0.590952              -0.564519                1.72515  "
      ]
     },
     "execution_count": 15,
     "metadata": {},
     "output_type": "execute_result"
    }
   ],
   "source": [
    "valid_x_norm.head()"
   ]
  },
  {
   "cell_type": "code",
   "execution_count": 16,
   "metadata": {},
   "outputs": [
    {
     "data": {
      "text/html": [
       "<div>\n",
       "<style scoped>\n",
       "    .dataframe tbody tr th:only-of-type {\n",
       "        vertical-align: middle;\n",
       "    }\n",
       "\n",
       "    .dataframe tbody tr th {\n",
       "        vertical-align: top;\n",
       "    }\n",
       "\n",
       "    .dataframe thead th {\n",
       "        text-align: right;\n",
       "    }\n",
       "</style>\n",
       "<table border=\"1\" class=\"dataframe\">\n",
       "  <thead>\n",
       "    <tr style=\"text-align: right;\">\n",
       "      <th></th>\n",
       "      <th>Age</th>\n",
       "      <th>Validation</th>\n",
       "      <th>Promotion_ord</th>\n",
       "      <th>Gender_ord</th>\n",
       "      <th>Residence_ord</th>\n",
       "      <th>Hair Color_Blond</th>\n",
       "      <th>Hair Color_Brown</th>\n",
       "      <th>Hair Color_Red</th>\n",
       "      <th>U.S. Region_Northwest</th>\n",
       "      <th>U.S. Region_Southeast</th>\n",
       "      <th>U.S. Region_Southwest</th>\n",
       "    </tr>\n",
       "  </thead>\n",
       "  <tbody>\n",
       "    <tr>\n",
       "      <th>9394</th>\n",
       "      <td>26</td>\n",
       "      <td>0</td>\n",
       "      <td>0</td>\n",
       "      <td>1</td>\n",
       "      <td>1</td>\n",
       "      <td>0</td>\n",
       "      <td>1</td>\n",
       "      <td>0</td>\n",
       "      <td>0</td>\n",
       "      <td>0</td>\n",
       "      <td>1</td>\n",
       "    </tr>\n",
       "    <tr>\n",
       "      <th>898</th>\n",
       "      <td>31</td>\n",
       "      <td>0</td>\n",
       "      <td>0</td>\n",
       "      <td>0</td>\n",
       "      <td>1</td>\n",
       "      <td>0</td>\n",
       "      <td>1</td>\n",
       "      <td>0</td>\n",
       "      <td>0</td>\n",
       "      <td>0</td>\n",
       "      <td>0</td>\n",
       "    </tr>\n",
       "    <tr>\n",
       "      <th>2398</th>\n",
       "      <td>33</td>\n",
       "      <td>1</td>\n",
       "      <td>0</td>\n",
       "      <td>0</td>\n",
       "      <td>1</td>\n",
       "      <td>0</td>\n",
       "      <td>1</td>\n",
       "      <td>0</td>\n",
       "      <td>0</td>\n",
       "      <td>1</td>\n",
       "      <td>0</td>\n",
       "    </tr>\n",
       "    <tr>\n",
       "      <th>5906</th>\n",
       "      <td>54</td>\n",
       "      <td>0</td>\n",
       "      <td>0</td>\n",
       "      <td>0</td>\n",
       "      <td>1</td>\n",
       "      <td>0</td>\n",
       "      <td>0</td>\n",
       "      <td>0</td>\n",
       "      <td>1</td>\n",
       "      <td>0</td>\n",
       "      <td>0</td>\n",
       "    </tr>\n",
       "    <tr>\n",
       "      <th>2343</th>\n",
       "      <td>59</td>\n",
       "      <td>0</td>\n",
       "      <td>0</td>\n",
       "      <td>0</td>\n",
       "      <td>1</td>\n",
       "      <td>0</td>\n",
       "      <td>1</td>\n",
       "      <td>0</td>\n",
       "      <td>0</td>\n",
       "      <td>0</td>\n",
       "      <td>1</td>\n",
       "    </tr>\n",
       "  </tbody>\n",
       "</table>\n",
       "</div>"
      ],
      "text/plain": [
       "      Age  Validation  Promotion_ord  Gender_ord  Residence_ord  \\\n",
       "9394   26           0              0           1              1   \n",
       "898    31           0              0           0              1   \n",
       "2398   33           1              0           0              1   \n",
       "5906   54           0              0           0              1   \n",
       "2343   59           0              0           0              1   \n",
       "\n",
       "      Hair Color_Blond  Hair Color_Brown  Hair Color_Red  \\\n",
       "9394                 0                 1               0   \n",
       "898                  0                 1               0   \n",
       "2398                 0                 1               0   \n",
       "5906                 0                 0               0   \n",
       "2343                 0                 1               0   \n",
       "\n",
       "      U.S. Region_Northwest  U.S. Region_Southeast  U.S. Region_Southwest  \n",
       "9394                      0                      0                      1  \n",
       "898                       0                      0                      0  \n",
       "2398                      0                      1                      0  \n",
       "5906                      1                      0                      0  \n",
       "2343                      0                      0                      1  "
      ]
     },
     "execution_count": 16,
     "metadata": {},
     "output_type": "execute_result"
    }
   ],
   "source": [
    "valid_x.head()"
   ]
  },
  {
   "cell_type": "code",
   "execution_count": 17,
   "metadata": {},
   "outputs": [],
   "source": [
    "# k = 4\n",
    "knn4 = KNeighborsClassifier(n_neighbors=4)\n",
    "knn4.fit(train_x_norm, train_y)\n",
    "\n",
    "lst = list(valid_x_norm['Promotion_ord'].unique())\n",
    "\n",
    "uplift_knn4 = valid_x_norm.copy()\n",
    "# promoted\n",
    "uplift_knn4['Promotion_ord'] = lst[1] # promoted\n",
    "knn4_pred_prom = knn4.predict_proba(uplift_knn4)\n",
    "# nopromotion\n",
    "uplift_knn4['Promotion_ord'] = lst[0]\n",
    "knn4_pred_noprom = knn4.predict_proba(uplift_knn4)\n",
    "\n",
    "# uplift\n",
    "knn4_uplift = pd.DataFrame({'probPromotion':knn4_pred_prom[:, 1],\n",
    "                            'probNoPromotion': knn4_pred_noprom[:, 1],\n",
    "                            'uplift': knn4_pred_prom[:,1] - knn4_pred_noprom[:,1]}, index = uplift_knn4.index)"
   ]
  },
  {
   "cell_type": "markdown",
   "metadata": {},
   "source": [
    "### c. Report the two models' recommendations for the first three members."
   ]
  },
  {
   "cell_type": "code",
   "execution_count": 18,
   "metadata": {},
   "outputs": [
    {
     "data": {
      "text/html": [
       "<div>\n",
       "<style scoped>\n",
       "    .dataframe tbody tr th:only-of-type {\n",
       "        vertical-align: middle;\n",
       "    }\n",
       "\n",
       "    .dataframe tbody tr th {\n",
       "        vertical-align: top;\n",
       "    }\n",
       "\n",
       "    .dataframe thead th {\n",
       "        text-align: right;\n",
       "    }\n",
       "</style>\n",
       "<table border=\"1\" class=\"dataframe\">\n",
       "  <thead>\n",
       "    <tr style=\"text-align: right;\">\n",
       "      <th></th>\n",
       "      <th>probPromotion</th>\n",
       "      <th>probNoPromotion</th>\n",
       "      <th>uplift</th>\n",
       "    </tr>\n",
       "  </thead>\n",
       "  <tbody>\n",
       "    <tr>\n",
       "      <th>4615</th>\n",
       "      <td>0.777500</td>\n",
       "      <td>0.05</td>\n",
       "      <td>0.727500</td>\n",
       "    </tr>\n",
       "    <tr>\n",
       "      <th>3343</th>\n",
       "      <td>0.727857</td>\n",
       "      <td>0.01</td>\n",
       "      <td>0.717857</td>\n",
       "    </tr>\n",
       "    <tr>\n",
       "      <th>9751</th>\n",
       "      <td>0.727857</td>\n",
       "      <td>0.01</td>\n",
       "      <td>0.717857</td>\n",
       "    </tr>\n",
       "  </tbody>\n",
       "</table>\n",
       "</div>"
      ],
      "text/plain": [
       "      probPromotion  probNoPromotion    uplift\n",
       "4615       0.777500             0.05  0.727500\n",
       "3343       0.727857             0.01  0.717857\n",
       "9751       0.727857             0.01  0.717857"
      ]
     },
     "execution_count": 18,
     "metadata": {},
     "output_type": "execute_result"
    }
   ],
   "source": [
    "rf_uplift.sort_values(by=['uplift'], ascending=False).head(3)"
   ]
  },
  {
   "cell_type": "code",
   "execution_count": 19,
   "metadata": {},
   "outputs": [
    {
     "data": {
      "text/html": [
       "<div>\n",
       "<style scoped>\n",
       "    .dataframe tbody tr th:only-of-type {\n",
       "        vertical-align: middle;\n",
       "    }\n",
       "\n",
       "    .dataframe tbody tr th {\n",
       "        vertical-align: top;\n",
       "    }\n",
       "\n",
       "    .dataframe thead th {\n",
       "        text-align: right;\n",
       "    }\n",
       "</style>\n",
       "<table border=\"1\" class=\"dataframe\">\n",
       "  <thead>\n",
       "    <tr style=\"text-align: right;\">\n",
       "      <th></th>\n",
       "      <th>probPromotion</th>\n",
       "      <th>probNoPromotion</th>\n",
       "      <th>uplift</th>\n",
       "    </tr>\n",
       "  </thead>\n",
       "  <tbody>\n",
       "    <tr>\n",
       "      <th>3807</th>\n",
       "      <td>0.5</td>\n",
       "      <td>0.0</td>\n",
       "      <td>0.5</td>\n",
       "    </tr>\n",
       "    <tr>\n",
       "      <th>4615</th>\n",
       "      <td>0.5</td>\n",
       "      <td>0.0</td>\n",
       "      <td>0.5</td>\n",
       "    </tr>\n",
       "    <tr>\n",
       "      <th>9357</th>\n",
       "      <td>0.5</td>\n",
       "      <td>0.0</td>\n",
       "      <td>0.5</td>\n",
       "    </tr>\n",
       "  </tbody>\n",
       "</table>\n",
       "</div>"
      ],
      "text/plain": [
       "      probPromotion  probNoPromotion  uplift\n",
       "3807            0.5              0.0     0.5\n",
       "4615            0.5              0.0     0.5\n",
       "9357            0.5              0.0     0.5"
      ]
     },
     "execution_count": 19,
     "metadata": {},
     "output_type": "execute_result"
    }
   ],
   "source": [
    "knn4_uplift.sort_values(by=['uplift'], ascending=False).head(3)"
   ]
  }
 ],
 "metadata": {
  "kernelspec": {
   "display_name": "Python 3",
   "language": "python",
   "name": "python3"
  },
  "language_info": {
   "codemirror_mode": {
    "name": "ipython",
    "version": 3
   },
   "file_extension": ".py",
   "mimetype": "text/x-python",
   "name": "python",
   "nbconvert_exporter": "python",
   "pygments_lexer": "ipython3",
   "version": "3.8.3"
  }
 },
 "nbformat": 4,
 "nbformat_minor": 4
}
